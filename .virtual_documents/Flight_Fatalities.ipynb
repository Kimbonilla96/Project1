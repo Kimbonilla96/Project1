import pandas as pd
import numpy as np
import matplotlib.pyplot as plt


flight_data_df = pd.read_csv('Airplane_Crashes_and_Fatalities_Since_1908.csv')
flight_data_df


flight_data_df.shape


flight_data_df.columns


flight_data_df.isnull().sum()


#Flitering by Type
flight_data_df['Type'].unique()


# Group by "Type" and sum up "fatalities"
fatalities_by_type = flight_data_df.groupby('Type')['Fatalities'].sum()
fatalities_by_type = fatalities_by_type.sort_values(ascending=False)

# Extract data for plotting
op_fatalities_x = fatalities_by_type.index
op_fatalities_y = fatalities_by_type.values

# Create a horizontal bar chart
plt.figure(figsize=(12, 8))
plt.barh(op_fatalities_x[:40], op_fatalities_y[:40], color='skyblue')
plt.xlabel('Fatalities')
plt.title('Top 20 Aircraft Types by Fatalities')
plt.show()


flight_data_df['Operator'].unique()


# Create a new column 'Civilian/Military' based on the presence of 'military' in the 'Type' column
flight_data_df['Civilian/Military'] = flight_data_df['Operator'].apply(lambda x: 'Military' if isinstance(x, str) and 'military' in x.lower() else 'Civilian')

# Display the unique values in the new column
flight_data_df


flight_data_df['Civilian/Military'].unique()


civilian_df = flight_data_df.loc[(flight_data_df['Civilian/Military'] == "Civilian")]
civilian_df


# Group by "Type" and sum up "fatalities"
fatalities_by_type = civilian_df.groupby('Operator')['Fatalities'].sum()
fatalities_by_type = fatalities_by_type.sort_values(ascending=False)

# Extract data for plotting
op_fatalities_x = fatalities_by_type.index
op_fatalities_y = fatalities_by_type.values

# Create a horizontal bar chart
plt.figure(figsize=(12, 8))
plt.barh(op_fatalities_x[:40], op_fatalities_y[:40], color='skyblue')
plt.xlabel('Fatalities')
plt.title('Top 40 Aircraft Types by Fatalities')
plt.show()


# Group by "Type" and sum up "fatalities"
fatalities_by_type = flight_data_df.groupby('Location').sum()['Fatalities']
fatalities_by_type = fatalities_by_type.sort_values(ascending=False)

# Extract data for plotting
op_fatalities_x = fatalities_by_type.index
op_fatalities_y = fatalities_by_type.values

# Create a horizontal bar chart
plt.figure(figsize=(12, 8))
plt.barh(op_fatalities_x[:40], op_fatalities_y[:40], color='skyblue')
plt.xlabel('Fatalities')
plt.title('Top 40 Aircraft Types by Fatalities')
plt.show()


# Group by "Type" and sum up "fatalities"
fatalities_by_type = flight_data_df.groupby('Route').sum()['Fatalities']
fatalities_by_type = fatalities_by_type.sort_values(ascending=False)

# Extract data for plotting
op_fatalities_x = fatalities_by_type.index
op_fatalities_y = fatalities_by_type.values

# Create a horizontal bar chart
plt.figure(figsize=(12, 8))
plt.barh(op_fatalities_x[:40], op_fatalities_y[:40], color='skyblue')
plt.xlabel('Fatalities')
plt.title('Top 40 Aircraft Types by Fatalities')
plt.show()


# Convert the 'Time' column to datetime format
flight_data_df['Date'] = pd.to_datetime(flight_data_df['Date'])
# Extract the year from the 'Time' column and create a new 'Year' column
flight_data_df['Year'] = flight_data_df['Date'].dt.year

flight_data_df





import pandas as pd
import calendar

# Convert the 'Date' column to datetime format
flight_data_df['date_column'] = pd.to_datetime(flight_data_df['Date'])

# Extract the month as a number
flight_data_df['month'] = flight_data_df['date_column'].dt.month

# Map month numbers to month names
flight_data_df['month'] = flight_data_df['month'].apply(lambda x: calendar.month_name[x])

flight_data_df



# Group by month and sum the fatalities
monthly_fatalities = flight_data_df.groupby('month')['Fatalities'].sum().reset_index()

# Sort by month
monthly_fatalities['month'] = pd.Categorical(monthly_fatalities['month'], categories=calendar.month_name[1:], ordered=True)
monthly_fatalities = monthly_fatalities.sort_values('month')

# Plot the horizontal bar chart
plt.figure(figsize=(10, 6))
plt.barh(monthly_fatalities['month'], monthly_fatalities['Fatalities'], color='skyblue')
plt.xlabel('Fatalities')
plt.ylabel('Month')
plt.title('Fatalities by Month')
plt.show()


# Group by 'Year' and calculate total people aboard and total fatalities
grouped_data = flight_data_df.groupby('Year').agg({'Aboard': 'sum', 'Fatalities': 'sum'}).reset_index()

# Create a line chart to compare total people aboard and total fatalities based on the year
plt.figure(figsize=(12, 8))
plt.plot(grouped_data['Year'], grouped_data['Aboard'], marker='o', label='Total Aboard', color='skyblue')
plt.plot(grouped_data['Year'], grouped_data['Fatalities'], marker='x', label='Total Fatalities', color='salmon')
plt.xlabel('Year')
plt.ylabel('Number of People')
plt.title('Comparison of Total People Aboard vs Total Fatalities by Year')
plt.legend()
plt.grid(True)
plt.show()


!pwd


location_df = pd.read_csv('worldcities.csv')
location_df.head()


merged_countries = pd.merge(flight_data_df, location_df, , how = 'outer')
merged_countries.head()


import geopandas as gpd
# Assuming mergeWorlddfOncountryDataframe is your GeoDataFrame
# Extract centroid of each geometry
mergeWorlddfOncountryDataframe['centroid'] = mergeWorlddfOncountryDataframe.geometry.centroid
# Extract latitude and longitude from centroid
mergeWorlddfOncountryDataframe['latitude'] = mergeWorlddfOncountryDataframe.centroid.y
mergeWorlddfOncountryDataframe['longitude'] = mergeWorlddfOncountryDataframe.centroid.x
# Drop the centroid column if you don't need it anymore
mergeWorlddfOncountryDataframe.drop(columns=['centroid'], inplace=True)
# Display the DataFrame with latitude and longitude columns
print(mergeWorlddfOncountryDataframe[['name', 'latitude', 'longitude']])


mergeWorlddfOncountryDataframe.head()


mergeWorlddfOncountryDataframe.shape


#Civilian fatal, type of aircrapft
import matplotlib.pyplot as plt
# Scatter plot
plt.figure(figsize=(10, 6))
plt.scatter(mergeWorlddfOncountryDataframe.longitude, mergeWorlddfOncountryDataframe.latitude, color='blue', alpha=0.5)
plt.xlabel('Longitude')
plt.ylabel('Latitude')
plt.title('Scatter Plot of Latitude vs Longitude')
plt.grid(True)
plt.show()


#CSV file to get the data of logitude and Latitude of countries
import folium

location = pd.read_csv('https://raw.githubusercontent.com/warazkhan/Data-Analysis/main/countries-latitude-longitude.csv')
countriesdf = mergeWorlddfOncountryDataframe.merge(location,on='name').sort_values(by='Fatalities',ascending=False).reset_index()
worldMap = folium.Map(tiles="cartodbpositron", zoom_start=10, min_zoom=1.5, max_zoom=10)
def add_markers_to_the_map(worldMap, gdf, color, icon):
    for i in range(0,len(countriesdf)):
        name = (countriesdf.name[i]).split(' ')
        continent = (countriesdf.continent[i]).split(' ')
        years = countriesdf.Years[i]
        time = countriesdf.Time[i]
        
        operator= countriesdf.Operator[i]
        popup_text = "Country:{}({})  Continent:{}  No.ofCrashes:{}  No.ofFacilities:{}  YearsOfCrashes:{}...  TimeOfCrashes:{}... FlightOperator:{}...".format(''.join(name), countriesdf.Country_CODE[i], ''.join(continent), int(countriesdf.Countries[i]), int(countriesdf.Fatalities[i]), years[0:99], time[0:101], operator[0:100])
        popup = folium.Popup(popup_text, autopan='False', parse_html=True,  max_width='100%', lazy ='True')
        marker = folium.Marker(location=[float(countriesdf.latitude[i]),float(countriesdf.longitude[i])], popup=popup, icon = folium.Icon(icon_size=(25, 25), color=color, icon=icon, prefix='fa', draggable= True)).add_to(worldMap)
    return worldMap
folium.TileLayer('Stamen Terrain').add_to(worldMap)
folium.TileLayer('Stamen Toner').add_to(worldMap)
folium.TileLayer('Stamen Water Color').add_to(worldMap)
folium.TileLayer('cartodbpositron').add_to(worldMap)
folium.TileLayer('cartodbdark_matter').add_to(worldMap)
folium.LayerControl().add_to(worldMap)

add_markers_to_the_map(worldMap, countriesdf, color = 'darkred', icon="fa-plane")







